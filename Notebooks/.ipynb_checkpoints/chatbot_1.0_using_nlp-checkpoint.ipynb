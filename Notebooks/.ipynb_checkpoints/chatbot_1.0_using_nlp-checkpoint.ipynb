{
 "cells": [
  {
   "cell_type": "markdown",
   "metadata": {
    "id": "XnOIvEhWC4X0"
   },
   "source": []
  },
  {
   "cell_type": "markdown",
   "metadata": {
    "id": "FSO4pxwpC6Qk"
   },
   "source": [
    "**ChatBot 1.0**"
   ]
  },
  {
   "cell_type": "code",
   "execution_count": 1,
   "metadata": {
    "colab": {
     "base_uri": "https://localhost:8080/"
    },
    "id": "ocU0yDCvC2WU",
    "outputId": "f926bc0b-ddcb-40cf-d24c-9030b686d828"
   },
   "outputs": [
    {
     "name": "stdout",
     "output_type": "stream",
     "text": [
      "Requirement already satisfied: nltk in c:\\users\\banda\\anaconda3\\lib\\site-packages (3.4.5)\n",
      "Requirement already satisfied: six in c:\\users\\banda\\anaconda3\\lib\\site-packages (from nltk) (1.12.0)\n",
      "Note: you may need to restart the kernel to use updated packages.\n"
     ]
    }
   ],
   "source": [
    "pip install nltk"
   ]
  },
  {
   "cell_type": "code",
   "execution_count": 2,
   "metadata": {
    "colab": {
     "base_uri": "https://localhost:8080/"
    },
    "id": "L2kh10r-DINb",
    "outputId": "7135e6b7-1336-4c33-98f5-2e905a63b7d6"
   },
   "outputs": [
    {
     "name": "stdout",
     "output_type": "stream",
     "text": [
      "Collecting newspaper3k\n",
      "  Downloading https://files.pythonhosted.org/packages/d7/b9/51afecb35bb61b188a4b44868001de348a0e8134b4dfa00ffc191567c4b9/newspaper3k-0.2.8-py3-none-any.whl (211kB)\n",
      "Requirement already satisfied: lxml>=3.6.0 in c:\\users\\banda\\anaconda3\\lib\\site-packages (from newspaper3k) (4.4.1)\n",
      "Requirement already satisfied: beautifulsoup4>=4.4.1 in c:\\users\\banda\\anaconda3\\lib\\site-packages (from newspaper3k) (4.8.0)\n",
      "Requirement already satisfied: requests>=2.10.0 in c:\\users\\banda\\anaconda3\\lib\\site-packages (from newspaper3k) (2.22.0)\n",
      "Collecting jieba3k>=0.35.1 (from newspaper3k)\n",
      "  Downloading https://files.pythonhosted.org/packages/a9/cb/2c8332bcdc14d33b0bedd18ae0a4981a069c3513e445120da3c3f23a8aaa/jieba3k-0.35.1.zip (7.4MB)\n",
      "Collecting tldextract>=2.0.1 (from newspaper3k)\n",
      "  Downloading https://files.pythonhosted.org/packages/c5/1e/58ad28cd1c6be6d37ec86b3f4790770f1cc49050d479fe773573a4704bc0/tldextract-3.1.2-py2.py3-none-any.whl (87kB)\n",
      "Requirement already satisfied: nltk>=3.2.1 in c:\\users\\banda\\anaconda3\\lib\\site-packages (from newspaper3k) (3.4.5)\n",
      "Requirement already satisfied: python-dateutil>=2.5.3 in c:\\users\\banda\\anaconda3\\lib\\site-packages (from newspaper3k) (2.8.0)\n",
      "Collecting cssselect>=0.9.2 (from newspaper3k)\n",
      "  Downloading https://files.pythonhosted.org/packages/3b/d4/3b5c17f00cce85b9a1e6f91096e1cc8e8ede2e1be8e96b87ce1ed09e92c5/cssselect-1.1.0-py2.py3-none-any.whl\n",
      "Collecting feedparser>=5.2.1 (from newspaper3k)\n",
      "  Downloading https://files.pythonhosted.org/packages/d8/b2/15bf6781a861bbc5dd801d467f26448fb322bfedcd30f2e62b148d104dfb/feedparser-6.0.8-py3-none-any.whl (81kB)\n",
      "Collecting feedfinder2>=0.0.4 (from newspaper3k)\n",
      "  Downloading https://files.pythonhosted.org/packages/35/82/1251fefec3bb4b03fd966c7e7f7a41c9fc2bb00d823a34c13f847fd61406/feedfinder2-0.0.4.tar.gz\n",
      "Collecting tinysegmenter==0.3 (from newspaper3k)\n",
      "  Downloading https://files.pythonhosted.org/packages/17/82/86982e4b6d16e4febc79c2a1d68ee3b707e8a020c5d2bc4af8052d0f136a/tinysegmenter-0.3.tar.gz\n",
      "Requirement already satisfied: PyYAML>=3.11 in c:\\users\\banda\\anaconda3\\lib\\site-packages (from newspaper3k) (5.1.2)\n",
      "Requirement already satisfied: Pillow>=3.3.0 in c:\\users\\banda\\anaconda3\\lib\\site-packages (from newspaper3k) (6.2.0)\n",
      "Requirement already satisfied: soupsieve>=1.2 in c:\\users\\banda\\anaconda3\\lib\\site-packages (from beautifulsoup4>=4.4.1->newspaper3k) (1.9.3)\n",
      "Requirement already satisfied: urllib3!=1.25.0,!=1.25.1,<1.26,>=1.21.1 in c:\\users\\banda\\anaconda3\\lib\\site-packages (from requests>=2.10.0->newspaper3k) (1.24.2)\n",
      "Requirement already satisfied: idna<2.9,>=2.5 in c:\\users\\banda\\anaconda3\\lib\\site-packages (from requests>=2.10.0->newspaper3k) (2.8)\n",
      "Requirement already satisfied: chardet<3.1.0,>=3.0.2 in c:\\users\\banda\\anaconda3\\lib\\site-packages (from requests>=2.10.0->newspaper3k) (3.0.4)\n",
      "Requirement already satisfied: certifi>=2017.4.17 in c:\\users\\banda\\anaconda3\\lib\\site-packages (from requests>=2.10.0->newspaper3k) (2019.9.11)\n",
      "Requirement already satisfied: filelock>=3.0.8 in c:\\users\\banda\\anaconda3\\lib\\site-packages (from tldextract>=2.0.1->newspaper3k) (3.0.12)\n",
      "Collecting requests-file>=1.4 (from tldextract>=2.0.1->newspaper3k)\n",
      "  Downloading https://files.pythonhosted.org/packages/77/86/cdb5e8eaed90796aa83a6d9f75cfbd37af553c47a291cd47bc410ef9bdb2/requests_file-1.5.1-py2.py3-none-any.whl\n",
      "Requirement already satisfied: six in c:\\users\\banda\\anaconda3\\lib\\site-packages (from nltk>=3.2.1->newspaper3k) (1.12.0)\n",
      "Collecting sgmllib3k (from feedparser>=5.2.1->newspaper3k)\n",
      "  Downloading https://files.pythonhosted.org/packages/9e/bd/3704a8c3e0942d711c1299ebf7b9091930adae6675d7c8f476a7ce48653c/sgmllib3k-1.0.0.tar.gz\n",
      "Building wheels for collected packages: jieba3k, feedfinder2, tinysegmenter, sgmllib3k\n",
      "  Building wheel for jieba3k (setup.py): started\n",
      "  Building wheel for jieba3k (setup.py): finished with status 'done'\n",
      "  Created wheel for jieba3k: filename=jieba3k-0.35.1-cp37-none-any.whl size=7398414 sha256=4a7b0bd63f29aa5c8c84fbe72c60946d46cd7e5b15e77e73d9919b6c18ccda6f\n",
      "  Stored in directory: C:\\Users\\banda\\AppData\\Local\\pip\\Cache\\wheels\\83\\15\\9c\\a3f1f67e7f7181170ad37d32e503c35da20627c013f438ed34\n",
      "  Building wheel for feedfinder2 (setup.py): started\n",
      "  Building wheel for feedfinder2 (setup.py): finished with status 'done'\n",
      "  Created wheel for feedfinder2: filename=feedfinder2-0.0.4-cp37-none-any.whl size=3362 sha256=c0e5c39fa1254e9431d6848202bbdba37bd30c1855743801df1bd8e1e86370a1\n",
      "  Stored in directory: C:\\Users\\banda\\AppData\\Local\\pip\\Cache\\wheels\\de\\03\\ca\\778e3a7a627e3d98836cc890e7cb40c7575424cfd3340f40ed\n",
      "  Building wheel for tinysegmenter (setup.py): started\n",
      "  Building wheel for tinysegmenter (setup.py): finished with status 'done'\n",
      "  Created wheel for tinysegmenter: filename=tinysegmenter-0.3-cp37-none-any.whl size=13542 sha256=68ba9ca88ff80005280db4711db3b15841687f6760d566c2249eafb43c8bc0e5\n",
      "  Stored in directory: C:\\Users\\banda\\AppData\\Local\\pip\\Cache\\wheels\\81\\2b\\43\\a02ede72324dd40cdd7ca53aad718c7710628e91b8b0dc0f02\n",
      "  Building wheel for sgmllib3k (setup.py): started\n",
      "  Building wheel for sgmllib3k (setup.py): finished with status 'done'\n",
      "  Created wheel for sgmllib3k: filename=sgmllib3k-1.0.0-cp37-none-any.whl size=6070 sha256=d75d14afcf9cd4e0b269b39c3dd8f73e602536b613c7be06c814c1f7ddd31ce2\n",
      "  Stored in directory: C:\\Users\\banda\\AppData\\Local\\pip\\Cache\\wheels\\f1\\80\\5a\\444ba08a550cdd241bd9baf8bae44be750efe370adb944506a\n",
      "Successfully built jieba3k feedfinder2 tinysegmenter sgmllib3k\n",
      "Installing collected packages: jieba3k, requests-file, tldextract, cssselect, sgmllib3k, feedparser, feedfinder2, tinysegmenter, newspaper3k\n",
      "Successfully installed cssselect-1.1.0 feedfinder2-0.0.4 feedparser-6.0.8 jieba3k-0.35.1 newspaper3k-0.2.8 requests-file-1.5.1 sgmllib3k-1.0.0 tinysegmenter-0.3 tldextract-3.1.2\n",
      "Note: you may need to restart the kernel to use updated packages.\n"
     ]
    }
   ],
   "source": [
    "pip install newspaper3k"
   ]
  },
  {
   "cell_type": "code",
   "execution_count": 3,
   "metadata": {
    "id": "jIwb1qldDf6v"
   },
   "outputs": [],
   "source": [
    "#import the libraries\n",
    "from newspaper import Article\n",
    "import random\n",
    "import string\n",
    "import nltk\n",
    "from sklearn.feature_extraction.text import CountVectorizer\n",
    "from sklearn.metrics.pairwise import cosine_similarity\n",
    "import numpy as np\n",
    "import warnings \n",
    "warnings.filterwarnings('ignore')\n"
   ]
  },
  {
   "cell_type": "code",
   "execution_count": 4,
   "metadata": {
    "colab": {
     "base_uri": "https://localhost:8080/"
    },
    "id": "ktR1CXxPEHWi",
    "outputId": "3af59643-8de9-432f-bf92-f19fb2845e4f"
   },
   "outputs": [
    {
     "data": {
      "text/plain": [
       "True"
      ]
     },
     "execution_count": 4,
     "metadata": {},
     "output_type": "execute_result"
    }
   ],
   "source": [
    "#download the punkt package\n",
    "nltk.download('punkt', quiet=True)\n"
   ]
  },
  {
   "cell_type": "code",
   "execution_count": 5,
   "metadata": {
    "id": "kVsGbMhSEKVY"
   },
   "outputs": [],
   "source": [
    "#Get the unicef article\n",
    "article = Article('https://www.unicef.org/india/coronavirus/covid-19') \n",
    "article.download()\n",
    "article.parse()\n",
    "article.nlp()\n",
    "corpus = article.text"
   ]
  },
  {
   "cell_type": "code",
   "execution_count": 6,
   "metadata": {
    "colab": {
     "base_uri": "https://localhost:8080/"
    },
    "id": "k3kLYk2uEwN5",
    "outputId": "1ced0ec8-c669-4709-bc3e-35b3220aeb80"
   },
   "outputs": [
    {
     "name": "stdout",
     "output_type": "stream",
     "text": [
      "Should I wear a mask?\n",
      "\n",
      "The use of a mask is advised to protect others even if you have no symptoms.\n",
      "\n",
      "\n",
      "\n",
      "After masks are worn, they must be used and disposed of properly to ensure their effectiveness and to avoid any increased risk of transmitting the virus.\n",
      "\n",
      "The use of a mask alone is not enough to stop infections and must be combined with frequent hand washing with soap and maintaining physical distance.\n",
      "\n",
      "Does COVID-19 affect children?\n",
      "\n",
      "COVID-19 is a new virus, and we are still learning about how it affects children and pregnant women. We know people of any age can be infected and transmit the virus. However, older people and/or those with pre-existing medical conditions seem more likely to develop severe illness. Cold, mild cough, fever, and body pain are the common symptoms of infection. We have also noted that other symptoms such as pain in the abdomen, loose motions, and vomiting are also present in children.\n",
      "\n",
      "Clinical features or symptoms affecting children and adolescents, possibly associated with COVID-19, can include but are not limited to: fever, headache, body pain, tiredness, cough, breathlessness, poor feeding, loss of taste or smell (in a child more than eight years old), rash, red or pink eyes, swollen and/or red lips, tongue, hands, feet, gastrointestinal problems (diarrhoea, vomiting).\n",
      "\n",
      "\n",
      "\n",
      "What should I do if my child has symptoms of COVID-19 or has been in contact with someone who has tested positive?\n",
      "\n",
      "Seek medical attention. If advised by the doctor, then get your child tested for COVID-19. If advised by a doctor isolate/stay home.\n",
      "\n",
      "Record temperature and oxygen saturation with a pulse oximeter if available at home, every 6 hours. Measure their temperature frequently. If it is more than 100-degree F, then you can do tepid sponging with tap water and give them syrup or tablet paracetamol. If fever is >100°F, give paracetamol 10–15 mg/kg/dose.\n",
      "\n",
      "\n",
      "\n",
      "Continue to follow good hand and respiratory hygiene practices like regular handwashing with soap so that your child is protected against other viruses and bacteria causing diseases.\n",
      "\n",
      "\n",
      "\n",
      "Continue to follow personal protective measures for yourself and your child. Your child should wear a surgical mask anytime they are around people. Change the mask after eight hours of continuous wear. Caregivers interacting with the child should wear gloves and a mask.\n",
      "\n",
      "\n",
      "\n",
      "Feed your child home-cooked food and keep them well hydrated. Give plenty of liquids and give a soft and light diet. One may give vitamin C, zinc to boost overall health and immunity\n",
      "\n",
      "\n",
      "\n",
      "Other nutritional supplements like syrup multivitamin, Vitamin C, vitamin D, calcium can be given as per their doctor’s advice.\n",
      "\n",
      "\n",
      "\n",
      "Be watchful for danger signs and if any of these signs are present, seek urgent medical advice at your nearest hospital.\n",
      "\n",
      "\n",
      "\n",
      "Indrawing of chest\n",
      "\n",
      "Grunting sounds\n",
      "\n",
      "The child looks pale or blue\n",
      "\n",
      "Peripheries feel cold\n",
      "\n",
      "Sunken eyeballs and dry mouth\n",
      "\n",
      "Not passed urine for more than 3- 4 hours (for children less than 5 years of age)\n",
      "\n",
      "Refusing to feed\n",
      "\n",
      "Looks drowsy or lethargic\n",
      "\n",
      "Abnormal body movement\n",
      "\n",
      "Severe diarrhea, vomiting or abdominal pain.\n",
      "\n",
      "What is the best way to wash hands properly?\n",
      "\n",
      "Step 1:Wet hands with running water\n",
      "\n",
      "Step 2: Apply enough soap to cover wet hands\n",
      "\n",
      "Step 3: Scrub all surfaces of the hands – including back of hands, between fingers and under nails – for at least 20 seconds\n",
      "\n",
      "Step 4: Rinse thoroughly with running water\n",
      "\n",
      "Step 5: Dry hands with a clean cloth or single-use towel\n",
      "\n",
      "\n",
      "\n",
      "Wash your hands often, especially before eating; after blowing your nose, coughing, or sneezing; and going to the bathroom.\n",
      "\n",
      "\n",
      "\n",
      "If soap and water are not readily available, use an alcohol-based hand sanitizer with at least 60% alcohol. Always wash hands with soap and water, if hands are visibly dirty.\n",
      "\n",
      "What precautions should I take for my family if we travel?\n",
      "\n",
      "Anyone planning a trip overseas should always check the travel advisory for their destination country for any restrictions on entry, quarantine requirements on entry, or other relevant travel advice.\n",
      "\n",
      "In addition to taking standard travel precautions, and in order to avoid being quarantined or denied re-entry into your home country, you are also advised to check the latest COVID-19 update on the International Air Transport Association website, which includes a list of countries and restriction measures.\n",
      "\n",
      "While traveling, all parents should follow standard hygiene measures for themselves and their children: Wash hands frequently or use an alcohol-based sanitizer with at least 60 per cent alcohol, practice good respiratory hygiene (cover your mouth and nose with your bent elbow or tissue when you cough or sneeze and immediately dispose of the used tissue) and avoid close contact with anyone who is coughing or sneezing.\n",
      "\n",
      "\n",
      "\n",
      "In addition, it is recommended that parents always carry a hand sanitizer, pack of disposable tissues, and disinfecting wipes.\n",
      "\n",
      "Additional recommendations include: Clean your seat, armrest, touchscreen, etc. with a disinfecting wipe once inside an aircraft or other vehicle. Also use a disinfecting wipe to clean key surfaces, doorknobs, remote controls, etc at the hotel or other accommodation where you and your children are staying.\n",
      "\n",
      "Can pregnant women pass coronavirus to unborn children?\n",
      "\n",
      "At this time, there is not enough evidence to determine whether the virus is transmitted from a mother to her baby during pregnancy, or the potential impact this may have on the baby. This is currently being investigated. Pregnant women should continue to follow appropriate precautions to protect themselves from exposure to the virus, and seek medical care early, if experiencing symptoms, such as fever, cough or difficulty breathing.\n",
      "\n",
      "Is it safe for a mother to breastfeed if she is infected with coronavirus?\n",
      "\n",
      "All mothers in affected and at-risk areas who have symptoms of fever, cough or difficulty breathing, should seek medical care early, and follow instructions from a health care provider.\n",
      "\n",
      "Considering the benefits of breastfeeding and the insignificant role of breastmilk in the transmission of other respiratory viruses, the mother can continue breastfeeding, while applying all the necessary precautions.\n",
      "\n",
      "For symptomatic mothers well enough to breastfeed, this includes wearing a mask when near a child (including during feeding), washing hands before and after contact with the child (including feeding), and cleaning/disinfecting contaminated surfaces – as should be done in all cases where anyone with confirmed or suspected COVID-19 interacts with others, including children.\n",
      "\n",
      "If a mother is too ill, she should be encouraged to express milk and give it to the child via a clean cup and/or spoon – all while following the same infection prevention methods.\n"
     ]
    }
   ],
   "source": [
    "#print the article text\n",
    "print(corpus)"
   ]
  },
  {
   "cell_type": "code",
   "execution_count": 7,
   "metadata": {
    "colab": {
     "base_uri": "https://localhost:8080/"
    },
    "id": "PkrzxrPHE9Oc",
    "outputId": "87c115a2-cfcc-4bd6-cec4-37b46d12e3a1"
   },
   "outputs": [
    {
     "name": "stdout",
     "output_type": "stream",
     "text": [
      "['Should I wear a mask?', 'The use of a mask is advised to protect others even if you have no symptoms.', 'After masks are worn, they must be used and disposed of properly to ensure their effectiveness and to avoid any increased risk of transmitting the virus.', 'The use of a mask alone is not enough to stop infections and must be combined with frequent hand washing with soap and maintaining physical distance.', 'Does COVID-19 affect children?', 'COVID-19 is a new virus, and we are still learning about how it affects children and pregnant women.', 'We know people of any age can be infected and transmit the virus.', 'However, older people and/or those with pre-existing medical conditions seem more likely to develop severe illness.', 'Cold, mild cough, fever, and body pain are the common symptoms of infection.', 'We have also noted that other symptoms such as pain in the abdomen, loose motions, and vomiting are also present in children.', 'Clinical features or symptoms affecting children and adolescents, possibly associated with COVID-19, can include but are not limited to: fever, headache, body pain, tiredness, cough, breathlessness, poor feeding, loss of taste or smell (in a child more than eight years old), rash, red or pink eyes, swollen and/or red lips, tongue, hands, feet, gastrointestinal problems (diarrhoea, vomiting).', 'What should I do if my child has symptoms of COVID-19 or has been in contact with someone who has tested positive?', 'Seek medical attention.', 'If advised by the doctor, then get your child tested for COVID-19.', 'If advised by a doctor isolate/stay home.', 'Record temperature and oxygen saturation with a pulse oximeter if available at home, every 6 hours.', 'Measure their temperature frequently.', 'If it is more than 100-degree F, then you can do tepid sponging with tap water and give them syrup or tablet paracetamol.', 'If fever is >100°F, give paracetamol 10–15 mg/kg/dose.', 'Continue to follow good hand and respiratory hygiene practices like regular handwashing with soap so that your child is protected against other viruses and bacteria causing diseases.', 'Continue to follow personal protective measures for yourself and your child.', 'Your child should wear a surgical mask anytime they are around people.', 'Change the mask after eight hours of continuous wear.', 'Caregivers interacting with the child should wear gloves and a mask.', 'Feed your child home-cooked food and keep them well hydrated.', 'Give plenty of liquids and give a soft and light diet.', 'One may give vitamin C, zinc to boost overall health and immunity\\n\\n\\n\\nOther nutritional supplements like syrup multivitamin, Vitamin C, vitamin D, calcium can be given as per their doctor’s advice.', 'Be watchful for danger signs and if any of these signs are present, seek urgent medical advice at your nearest hospital.', 'Indrawing of chest\\n\\nGrunting sounds\\n\\nThe child looks pale or blue\\n\\nPeripheries feel cold\\n\\nSunken eyeballs and dry mouth\\n\\nNot passed urine for more than 3- 4 hours (for children less than 5 years of age)\\n\\nRefusing to feed\\n\\nLooks drowsy or lethargic\\n\\nAbnormal body movement\\n\\nSevere diarrhea, vomiting or abdominal pain.', 'What is the best way to wash hands properly?', 'Step 1:Wet hands with running water\\n\\nStep 2: Apply enough soap to cover wet hands\\n\\nStep 3: Scrub all surfaces of the hands – including back of hands, between fingers and under nails – for at least 20 seconds\\n\\nStep 4: Rinse thoroughly with running water\\n\\nStep 5: Dry hands with a clean cloth or single-use towel\\n\\n\\n\\nWash your hands often, especially before eating; after blowing your nose, coughing, or sneezing; and going to the bathroom.', 'If soap and water are not readily available, use an alcohol-based hand sanitizer with at least 60% alcohol.', 'Always wash hands with soap and water, if hands are visibly dirty.', 'What precautions should I take for my family if we travel?', 'Anyone planning a trip overseas should always check the travel advisory for their destination country for any restrictions on entry, quarantine requirements on entry, or other relevant travel advice.', 'In addition to taking standard travel precautions, and in order to avoid being quarantined or denied re-entry into your home country, you are also advised to check the latest COVID-19 update on the International Air Transport Association website, which includes a list of countries and restriction measures.', 'While traveling, all parents should follow standard hygiene measures for themselves and their children: Wash hands frequently or use an alcohol-based sanitizer with at least 60 per cent alcohol, practice good respiratory hygiene (cover your mouth and nose with your bent elbow or tissue when you cough or sneeze and immediately dispose of the used tissue) and avoid close contact with anyone who is coughing or sneezing.', 'In addition, it is recommended that parents always carry a hand sanitizer, pack of disposable tissues, and disinfecting wipes.', 'Additional recommendations include: Clean your seat, armrest, touchscreen, etc.', 'with a disinfecting wipe once inside an aircraft or other vehicle.', 'Also use a disinfecting wipe to clean key surfaces, doorknobs, remote controls, etc at the hotel or other accommodation where you and your children are staying.', 'Can pregnant women pass coronavirus to unborn children?', 'At this time, there is not enough evidence to determine whether the virus is transmitted from a mother to her baby during pregnancy, or the potential impact this may have on the baby.', 'This is currently being investigated.', 'Pregnant women should continue to follow appropriate precautions to protect themselves from exposure to the virus, and seek medical care early, if experiencing symptoms, such as fever, cough or difficulty breathing.', 'Is it safe for a mother to breastfeed if she is infected with coronavirus?', 'All mothers in affected and at-risk areas who have symptoms of fever, cough or difficulty breathing, should seek medical care early, and follow instructions from a health care provider.', 'Considering the benefits of breastfeeding and the insignificant role of breastmilk in the transmission of other respiratory viruses, the mother can continue breastfeeding, while applying all the necessary precautions.', 'For symptomatic mothers well enough to breastfeed, this includes wearing a mask when near a child (including during feeding), washing hands before and after contact with the child (including feeding), and cleaning/disinfecting contaminated surfaces – as should be done in all cases where anyone with confirmed or suspected COVID-19 interacts with others, including children.', 'If a mother is too ill, she should be encouraged to express milk and give it to the child via a clean cup and/or spoon – all while following the same infection prevention methods.']\n"
     ]
    }
   ],
   "source": [
    "#Tokenization\n",
    "text = corpus\n",
    "sentence_list = nltk.sent_tokenize(text) # A list of sentences\n",
    "print(sentence_list)"
   ]
  },
  {
   "cell_type": "code",
   "execution_count": 8,
   "metadata": {
    "id": "IWjDcXX7FGA8"
   },
   "outputs": [],
   "source": [
    "# A function to return a random response to a user's greeting\n",
    "def greeting_response(text):\n",
    "  text = text.lower()\n",
    "\n",
    "  #Bots greeting response\n",
    "  bot_greetings = [ 'howdy','hi','hey','hello','hola']\n",
    "  #Users greeting\n",
    "  user_greetings = ['hi','hey','hello','hola', 'greetings','wassup','sup','hey bot','konnichiwa']\n",
    "\n",
    "\n",
    "  for word in text.split():\n",
    "   if word in user_greetings:\n",
    "     return random.choice(bot_greetings)\n",
    "\n"
   ]
  },
  {
   "cell_type": "code",
   "execution_count": 9,
   "metadata": {
    "id": "Qszgc-r5JUNc"
   },
   "outputs": [],
   "source": [
    "def index_sort(list_var):\n",
    "    length = len(list_var)\n",
    "    list_index = list(range(0,length))\n",
    "\n",
    "    x =list_var\n",
    "    for i in range(length):\n",
    "      for j in range(length):\n",
    "        if x[list_index[i]] > x[list_index[j]]:\n",
    "          #swap\n",
    "          temp = list_index[i]\n",
    "          list_index[i] = list_index[j]\n",
    "          list_index[j] = temp\n",
    "\n",
    "    return list_index \n"
   ]
  },
  {
   "cell_type": "code",
   "execution_count": 10,
   "metadata": {
    "id": "5ZRqThffF6Vj"
   },
   "outputs": [],
   "source": [
    "#Create the bot's response"
   ]
  },
  {
   "cell_type": "code",
   "execution_count": 11,
   "metadata": {
    "id": "VujKwWvWIIbw"
   },
   "outputs": [],
   "source": [
    "def bot_response(user_input):\n",
    "  user_input = user_input.lower()\n",
    "  sentence_list.append(user_input)\n",
    "  bot_response=''\n",
    "  cm = CountVectorizer().fit_transform(sentence_list)\n",
    "  similarity_scores = cosine_similarity(cm[-1], cm)\n",
    "  similarity_scores_list = similarity_scores.flatten()\n",
    "  index = index_sort(similarity_scores_list)\n",
    "  index = index[1:]\n",
    "  response_flag = 0\n",
    "\n",
    "  j = 0\n",
    "  for i in range(len(index)):\n",
    "    if similarity_scores_list[index[i]] > 0.0:\n",
    "      bot_response = bot_response+' '+sentence_list[index[i]]\n",
    "      response_flag = 1\n",
    "      j= j+1\n",
    "    if j > 2:\n",
    "      break\n",
    "\n",
    "  if response_flag == 0:\n",
    "    bot_response = bot_response+' '+\"I do not understand your query, please try again.\"\n",
    "\n",
    "  sentence_list.remove(user_input)\n",
    "\n",
    "  return bot_response   "
   ]
  },
  {
   "cell_type": "code",
   "execution_count": 12,
   "metadata": {},
   "outputs": [],
   "source": [
    "#Saving the Model and Pipeline\n",
    "import joblib\n",
    "pipeline_file = open(\"covidbot.pkl\", \"wb\")\n",
    "joblib.dump(bot_response, pipeline_file)\n",
    "pipeline_file.close()"
   ]
  },
  {
   "cell_type": "code",
   "execution_count": null,
   "metadata": {
    "colab": {
     "base_uri": "https://localhost:8080/"
    },
    "id": "c88DdUbzOwps",
    "outputId": "e6efdfa6-d283-467e-da45-b4b9ae3cdafd"
   },
   "outputs": [
    {
     "name": "stdout",
     "output_type": "stream",
     "text": [
      "COVID Bot: I am COVID Bot. I will answer your queries about Novel COVID-19. If you want to exit type bye.\n"
     ]
    }
   ],
   "source": [
    "#Your virtual assistance starts from here:\n",
    "print('COVID Bot: I am COVID Bot. I will answer your queries about Novel COVID-19. If you want to exit type bye.')\n",
    "\n",
    "exit_list = ['exit', 'see you later', 'bye', 'quit', 'break', 'sayonara','stop']\n",
    "while(True):\n",
    "  user_input = input()\n",
    "  if user_input.lower()in exit_list:\n",
    "    print('COVID Bot: Had a good time, will chat with you later !')\n",
    "    break\n",
    "  else:\n",
    "    if greeting_response(user_input) != None:\n",
    "      print('COVID Bot:' +' '+greeting_response(user_input))\n",
    "    else:\n",
    "      print('COVID Bot:' +' '+bot_response(user_input))"
   ]
  },
  {
   "cell_type": "code",
   "execution_count": null,
   "metadata": {
    "id": "9cDUvFytM1Sr"
   },
   "outputs": [],
   "source": []
  }
 ],
 "metadata": {
  "colab": {
   "collapsed_sections": [],
   "name": "chatbot-using-nlp.ipynb",
   "provenance": []
  },
  "kernelspec": {
   "display_name": "Python 3",
   "language": "python",
   "name": "python3"
  },
  "language_info": {
   "codemirror_mode": {
    "name": "ipython",
    "version": 3
   },
   "file_extension": ".py",
   "mimetype": "text/x-python",
   "name": "python",
   "nbconvert_exporter": "python",
   "pygments_lexer": "ipython3",
   "version": "3.7.4"
  }
 },
 "nbformat": 4,
 "nbformat_minor": 1
}
